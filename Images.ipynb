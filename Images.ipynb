{
  "nbformat": 4,
  "nbformat_minor": 0,
  "metadata": {
    "colab": {
      "name": "Images",
      "provenance": [],
      "authorship_tag": "ABX9TyP0Ul46rscQv8pmxHSSnUz0",
      "include_colab_link": true
    },
    "kernelspec": {
      "name": "python3",
      "display_name": "Python 3"
    },
    "language_info": {
      "name": "python"
    },
    "widgets": {
      "application/vnd.jupyter.widget-state+json": {
        "4aac5e4b99ee48a497b97bb22330a4ab": {
          "model_module": "@jupyter-widgets/controls",
          "model_name": "VBoxModel",
          "model_module_version": "1.5.0",
          "state": {
            "_view_name": "VBoxView",
            "_dom_classes": [
              "widget-interact"
            ],
            "_model_name": "VBoxModel",
            "_view_module": "@jupyter-widgets/controls",
            "_model_module_version": "1.5.0",
            "_view_count": null,
            "_view_module_version": "1.5.0",
            "box_style": "",
            "layout": "IPY_MODEL_60e68acaf6a94e17a2b48ad83b4bb4a8",
            "_model_module": "@jupyter-widgets/controls",
            "children": [
              "IPY_MODEL_221b11d44b894162a295a6041f7e8589",
              "IPY_MODEL_d89876af50f44681a5374ff7818bb6f8"
            ]
          }
        },
        "60e68acaf6a94e17a2b48ad83b4bb4a8": {
          "model_module": "@jupyter-widgets/base",
          "model_name": "LayoutModel",
          "model_module_version": "1.2.0",
          "state": {
            "_view_name": "LayoutView",
            "grid_template_rows": null,
            "right": null,
            "justify_content": null,
            "_view_module": "@jupyter-widgets/base",
            "overflow": null,
            "_model_module_version": "1.2.0",
            "_view_count": null,
            "flex_flow": null,
            "width": null,
            "min_width": null,
            "border": null,
            "align_items": null,
            "bottom": null,
            "_model_module": "@jupyter-widgets/base",
            "top": null,
            "grid_column": null,
            "overflow_y": null,
            "overflow_x": null,
            "grid_auto_flow": null,
            "grid_area": null,
            "grid_template_columns": null,
            "flex": null,
            "_model_name": "LayoutModel",
            "justify_items": null,
            "grid_row": null,
            "max_height": null,
            "align_content": null,
            "visibility": null,
            "align_self": null,
            "height": null,
            "min_height": null,
            "padding": null,
            "grid_auto_rows": null,
            "grid_gap": null,
            "max_width": null,
            "order": null,
            "_view_module_version": "1.2.0",
            "grid_template_areas": null,
            "object_position": null,
            "object_fit": null,
            "grid_auto_columns": null,
            "margin": null,
            "display": null,
            "left": null
          }
        },
        "221b11d44b894162a295a6041f7e8589": {
          "model_module": "@jupyter-widgets/controls",
          "model_name": "IntSliderModel",
          "model_module_version": "1.5.0",
          "state": {
            "_view_name": "IntSliderView",
            "style": "IPY_MODEL_a5bd9179a6b846a49fee870995d72c72",
            "_dom_classes": [],
            "description": "i",
            "step": 1,
            "_model_name": "IntSliderModel",
            "orientation": "horizontal",
            "max": 1796,
            "_view_module": "@jupyter-widgets/controls",
            "_model_module_version": "1.5.0",
            "value": 1101,
            "_view_count": null,
            "disabled": false,
            "_view_module_version": "1.5.0",
            "min": 0,
            "continuous_update": true,
            "readout_format": "d",
            "description_tooltip": null,
            "readout": true,
            "_model_module": "@jupyter-widgets/controls",
            "layout": "IPY_MODEL_e224259e5d6c437dab84ccfd0e958a74"
          }
        },
        "d89876af50f44681a5374ff7818bb6f8": {
          "model_module": "@jupyter-widgets/output",
          "model_name": "OutputModel",
          "model_module_version": "1.0.0",
          "state": {
            "_view_name": "OutputView",
            "msg_id": "",
            "_dom_classes": [],
            "_model_name": "OutputModel",
            "outputs": [
              {
                "output_type": "display_data",
                "data": {
                  "image/png": "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\n",
                  "text/plain": "<Figure size 432x288 with 1 Axes>"
                },
                "metadata": {
                  "needs_background": "light"
                }
              }
            ],
            "_view_module": "@jupyter-widgets/output",
            "_model_module_version": "1.0.0",
            "_view_count": null,
            "_view_module_version": "1.0.0",
            "layout": "IPY_MODEL_2ccdb71507014fd393e95f6dc67bd6b9",
            "_model_module": "@jupyter-widgets/output"
          }
        },
        "a5bd9179a6b846a49fee870995d72c72": {
          "model_module": "@jupyter-widgets/controls",
          "model_name": "SliderStyleModel",
          "model_module_version": "1.5.0",
          "state": {
            "_view_name": "StyleView",
            "handle_color": null,
            "_model_name": "SliderStyleModel",
            "description_width": "",
            "_view_module": "@jupyter-widgets/base",
            "_model_module_version": "1.5.0",
            "_view_count": null,
            "_view_module_version": "1.2.0",
            "_model_module": "@jupyter-widgets/controls"
          }
        },
        "e224259e5d6c437dab84ccfd0e958a74": {
          "model_module": "@jupyter-widgets/base",
          "model_name": "LayoutModel",
          "model_module_version": "1.2.0",
          "state": {
            "_view_name": "LayoutView",
            "grid_template_rows": null,
            "right": null,
            "justify_content": null,
            "_view_module": "@jupyter-widgets/base",
            "overflow": null,
            "_model_module_version": "1.2.0",
            "_view_count": null,
            "flex_flow": null,
            "width": null,
            "min_width": null,
            "border": null,
            "align_items": null,
            "bottom": null,
            "_model_module": "@jupyter-widgets/base",
            "top": null,
            "grid_column": null,
            "overflow_y": null,
            "overflow_x": null,
            "grid_auto_flow": null,
            "grid_area": null,
            "grid_template_columns": null,
            "flex": null,
            "_model_name": "LayoutModel",
            "justify_items": null,
            "grid_row": null,
            "max_height": null,
            "align_content": null,
            "visibility": null,
            "align_self": null,
            "height": null,
            "min_height": null,
            "padding": null,
            "grid_auto_rows": null,
            "grid_gap": null,
            "max_width": null,
            "order": null,
            "_view_module_version": "1.2.0",
            "grid_template_areas": null,
            "object_position": null,
            "object_fit": null,
            "grid_auto_columns": null,
            "margin": null,
            "display": null,
            "left": null
          }
        },
        "2ccdb71507014fd393e95f6dc67bd6b9": {
          "model_module": "@jupyter-widgets/base",
          "model_name": "LayoutModel",
          "model_module_version": "1.2.0",
          "state": {
            "_view_name": "LayoutView",
            "grid_template_rows": null,
            "right": null,
            "justify_content": null,
            "_view_module": "@jupyter-widgets/base",
            "overflow": null,
            "_model_module_version": "1.2.0",
            "_view_count": null,
            "flex_flow": null,
            "width": null,
            "min_width": null,
            "border": null,
            "align_items": null,
            "bottom": null,
            "_model_module": "@jupyter-widgets/base",
            "top": null,
            "grid_column": null,
            "overflow_y": null,
            "overflow_x": null,
            "grid_auto_flow": null,
            "grid_area": null,
            "grid_template_columns": null,
            "flex": null,
            "_model_name": "LayoutModel",
            "justify_items": null,
            "grid_row": null,
            "max_height": null,
            "align_content": null,
            "visibility": null,
            "align_self": null,
            "height": null,
            "min_height": null,
            "padding": null,
            "grid_auto_rows": null,
            "grid_gap": null,
            "max_width": null,
            "order": null,
            "_view_module_version": "1.2.0",
            "grid_template_areas": null,
            "object_position": null,
            "object_fit": null,
            "grid_auto_columns": null,
            "margin": null,
            "display": null,
            "left": null
          }
        }
      }
    }
  },
  "cells": [
    {
      "cell_type": "markdown",
      "metadata": {
        "id": "view-in-github",
        "colab_type": "text"
      },
      "source": [
        "<a href=\"https://colab.research.google.com/github/awchisholm/chi_material/blob/main/Images.ipynb\" target=\"_parent\"><img src=\"https://colab.research.google.com/assets/colab-badge.svg\" alt=\"Open In Colab\"/></a>"
      ]
    },
    {
      "cell_type": "code",
      "execution_count": 1,
      "metadata": {
        "id": "vEvxDNDj4ITv"
      },
      "outputs": [],
      "source": [
        "%matplotlib inline\n",
        "import matplotlib.pyplot as plt\n",
        "from ipywidgets import interact\n",
        "from sklearn import datasets\n",
        "digits = datasets.load_digits()"
      ]
    },
    {
      "cell_type": "code",
      "source": [
        "def browse_images(digits):\n",
        "    n = len(digits.images)\n",
        "    def view_image(i):\n",
        "        plt.imshow(digits.images[i], cmap=plt.cm.gray_r, interpolation='nearest')\n",
        "        plt.title('Training: %s' % digits.target[i])\n",
        "        plt.show()\n",
        "    interact(view_image, i=(0,n-1))"
      ],
      "metadata": {
        "id": "9mytAIYE4TxN"
      },
      "execution_count": 2,
      "outputs": []
    },
    {
      "cell_type": "code",
      "source": [
        "browse_images(digits)"
      ],
      "metadata": {
        "colab": {
          "base_uri": "https://localhost:8080/",
          "height": 313,
          "referenced_widgets": [
            "4aac5e4b99ee48a497b97bb22330a4ab",
            "60e68acaf6a94e17a2b48ad83b4bb4a8",
            "221b11d44b894162a295a6041f7e8589",
            "d89876af50f44681a5374ff7818bb6f8",
            "a5bd9179a6b846a49fee870995d72c72",
            "e224259e5d6c437dab84ccfd0e958a74",
            "2ccdb71507014fd393e95f6dc67bd6b9"
          ]
        },
        "id": "A5q8ACE94Voq",
        "outputId": "4e651eb3-af72-4243-dd9b-6ef816fea19c"
      },
      "execution_count": 3,
      "outputs": [
        {
          "output_type": "display_data",
          "data": {
            "application/vnd.jupyter.widget-view+json": {
              "model_id": "4aac5e4b99ee48a497b97bb22330a4ab",
              "version_minor": 0,
              "version_major": 2
            },
            "text/plain": [
              "interactive(children=(IntSlider(value=898, description='i', max=1796), Output()), _dom_classes=('widget-intera…"
            ]
          },
          "metadata": {}
        }
      ]
    }
  ]
}