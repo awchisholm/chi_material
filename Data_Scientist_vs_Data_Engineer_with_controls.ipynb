{
  "nbformat": 4,
  "nbformat_minor": 0,
  "metadata": {
    "colab": {
      "name": "Data Scientist vs Data Engineer with controls",
      "provenance": [],
      "collapsed_sections": [],
      "authorship_tag": "ABX9TyMuLIrO1COVevV8gNlXe0ux",
      "include_colab_link": true
    },
    "kernelspec": {
      "name": "python3",
      "display_name": "Python 3"
    },
    "language_info": {
      "name": "python"
    }
  },
  "cells": [
    {
      "cell_type": "markdown",
      "metadata": {
        "id": "view-in-github",
        "colab_type": "text"
      },
      "source": [
        "<a href=\"https://colab.research.google.com/github/awchisholm/chi_material/blob/main/Data_Scientist_vs_Data_Engineer_with_controls.ipynb\" target=\"_parent\"><img src=\"https://colab.research.google.com/assets/colab-badge.svg\" alt=\"Open In Colab\"/></a>"
      ]
    },
    {
      "cell_type": "code",
      "execution_count": null,
      "metadata": {
        "id": "y2b_jhyVQeM0"
      },
      "outputs": [],
      "source": [
        "# Original Google Trends search is here\n",
        "# https://trends.google.com/trends/explore/TIMESERIES/1641721800?hl=en-GB&tz=0&date=all&geo=GB&q=data+scientist,data+engineer&sni=3\n",
        "# This allows a CSV file to be created - the following URL is an example of the direct download link but this typically fails after a day or two\n",
        "# https://trends.google.com/trends/api/widgetdata/multiline/csv?req=%7B%22time%22%3A%222004-01-01%202022-01-09%22%2C%22resolution%22%3A%22MONTH%22%2C%22locale%22%3A%22en-GB%22%2C%22comparisonItem%22%3A%5B%7B%22geo%22%3A%7B%22country%22%3A%22GB%22%7D%2C%22complexKeywordsRestriction%22%3A%7B%22keyword%22%3A%5B%7B%22type%22%3A%22BROAD%22%2C%22value%22%3A%22data%20scientist%22%7D%5D%7D%7D%2C%7B%22geo%22%3A%7B%22country%22%3A%22GB%22%7D%2C%22complexKeywordsRestriction%22%3A%7B%22keyword%22%3A%5B%7B%22type%22%3A%22BROAD%22%2C%22value%22%3A%22data%20engineer%22%7D%5D%7D%7D%5D%2C%22requestOptions%22%3A%7B%22property%22%3A%22%22%2C%22backend%22%3A%22IZG%22%2C%22category%22%3A0%7D%7D&token=APP6_UEAAAAAYdyS4xhOgO-xCUPzM0jlLRkqBe2aaW5V&tz=0\n",
        "# So you need to download the CSV file and manually upload it to github ensuring you call it DataScienceDataEngineer.csv\n",
        "# You can then use the raw github URL to download it\n"
      ]
    },
    {
      "cell_type": "code",
      "source": [
        "import csv\n",
        "import requests\n",
        "import pandas as pd\n",
        "import matplotlib.pyplot as plt\n",
        "import ipywidgets as widgets\n",
        "url = 'https://raw.githubusercontent.com/awchisholm/chi_material/main/DataScienceDataEngineer.csv'\n",
        "csv_result = []\n",
        "with requests.get(url, stream=True) as r:\n",
        "  lines = (line.decode('utf-8') for line in r.iter_lines())\n",
        "  for row in csv.reader(lines):\n",
        "    csv_result.append(row)"
      ],
      "metadata": {
        "id": "wY2dMkfqeWpB"
      },
      "execution_count": 4,
      "outputs": []
    },
    {
      "cell_type": "code",
      "source": [
        "columnnames = csv_result[2]\n",
        "ts = pd.DataFrame(csv_result[3:], columns=columnnames)\n",
        "ts['Month'] = pd.to_datetime(ts['Month'])\n",
        "ts['data engineer: (United Kingdom)'] = pd.to_numeric(ts['data engineer: (United Kingdom)'])\n",
        "ts['data scientist: (United Kingdom)'] = pd.to_numeric(ts['data scientist: (United Kingdom)'])"
      ],
      "metadata": {
        "id": "Iwi2C0XMf5Qy"
      },
      "execution_count": 5,
      "outputs": []
    },
    {
      "cell_type": "code",
      "source": [
        "def plot_figure(ts, rollperiod):\n",
        "  rollperiod = rollperiod\n",
        "  ts['Data Scientist'] = ts['data scientist: (United Kingdom)'].rolling(rollperiod).mean()\n",
        "  ts['Data Engineer'] = ts['data engineer: (United Kingdom)'].rolling(rollperiod).mean()\n",
        "\n",
        "  plt.figure(figsize=(20,12))\n",
        "  plt.xticks(rotation=90)\n",
        "  engcolor = 'red'\n",
        "  scicolor='green'\n",
        "  linewidth=5\n",
        "  fontsize = 20\n",
        "  plt.plot(ts['Month'], ts['Data Engineer'], color=engcolor, label='Data Engineer Smoothed ' + str(rollperiod) + ' months', linewidth=linewidth)\n",
        "  plt.plot(ts['Month'], ts['data engineer: (United Kingdom)'], linestyle='dotted', color=engcolor, label='Data Engineer Raw')\n",
        "\n",
        "  plt.plot(ts['Month'], ts['Data Scientist'], color=scicolor, label='Data Scientist Smoothed ' + str(rollperiod) + ' months',  linewidth=linewidth)\n",
        "  plt.plot(ts['Month'], ts['data scientist: (United Kingdom)'], linestyle='dotted', color=scicolor, label='Data Scientist Raw')\n",
        "\n",
        "  plt.title('Data Scientist and Data Engineer relative interest over time from Google Trends', fontsize=fontsize)\n",
        "  plt.xlabel('Date', fontsize=fontsize)\n",
        "  plt.xticks(fontsize=fontsize)\n",
        "  plt.yticks(fontsize=fontsize)\n",
        "  plt.ylabel('Relative interest over time', fontsize=fontsize)\n",
        "  plt.legend(fontsize=fontsize)\n",
        "\n",
        "  plt.show()"
      ],
      "metadata": {
        "id": "fQZ8i9nDR_fT"
      },
      "execution_count": 10,
      "outputs": []
    },
    {
      "cell_type": "code",
      "source": [
        "interact(plot_figure, ts=fixed(ts), rollperiod=widgets.IntSlider(min=2, max=24, step=1, value=6))"
      ],
      "metadata": {
        "id": "0lFSP_A7S0Ay"
      },
      "execution_count": null,
      "outputs": []
    }
  ]
}